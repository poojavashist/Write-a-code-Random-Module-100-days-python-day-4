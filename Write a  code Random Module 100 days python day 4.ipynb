{
 "cells": [
  {
   "cell_type": "code",
   "execution_count": 1,
   "metadata": {},
   "outputs": [
    {
     "data": {
      "text/plain": [
       "788274339333664131776300095313"
      ]
     },
     "execution_count": 1,
     "metadata": {},
     "output_type": "execute_result"
    }
   ],
   "source": [
    "import random\n",
    "random.getrandbits(100)"
   ]
  },
  {
   "cell_type": "code",
   "execution_count": 36,
   "metadata": {},
   "outputs": [
    {
     "name": "stdout",
     "output_type": "stream",
     "text": [
      "generate the random sequence of 3 integer \n",
      "18\n",
      "73\n",
      "Generating the same identical sequence of 3 integers...\n",
      "18\n",
      "73\n"
     ]
    }
   ],
   "source": [
    "import random\n",
    "random.seed(1)\n",
    "random_float = random.getstate()\n",
    "\n",
    "print(\"generate the random sequence of 3 integer \")\n",
    "for i in range(2):\n",
    "    print(random.randint(1,100))\n",
    "random.setstate(random_float)\n",
    "print('Generating the same identical sequence of 3 integers...')\n",
    "for i in range(2):\n",
    "    print(random.randint(1, 100 ))\n",
    "\n"
   ]
  },
  {
   "cell_type": "code",
   "execution_count": 68,
   "metadata": {},
   "outputs": [
    {
     "name": "stdout",
     "output_type": "stream",
     "text": [
      "0.4386947033129971\n",
      "0.4386947033129971\n",
      "0.4386947033129971\n"
     ]
    }
   ],
   "source": [
    "import random\n",
    "random_float = random.random()\n",
    "print(random_float)\n",
    "for i in range(1,3 ):\n",
    "    print(random_float)\n",
    "    "
   ]
  },
  {
   "cell_type": "code",
   "execution_count": 88,
   "metadata": {},
   "outputs": [
    {
     "name": "stdout",
     "output_type": "stream",
     "text": [
      "Enter her name  :  Pooja\n",
      "Enter his name :  Pinak\n",
      "'\n",
      "                        __,,,__\n",
      "                ,-\"\"-,-\"       \"-,-\"\"-,\n",
      "               /,-' , .-'-.7.-'-. , '-,               \\(    /  _     _  \\    )/\n",
      "                '-,  { (0)   (0) }  ,-'\n",
      "                 /    >  .---.  <                    |/ .-'   \\___/   '-. \\|\n",
      "                {, /  ,_       _,  \\ ,}\n",
      "                \\ {,    \\     /    ,} /\n",
      "                 ',\\.    '---'    ./,'\n",
      "             _.-\"\"\"\"\"\"-._     _.-\"\"\"\"\"\"-._\n",
      "           .'            `._.`            '.\n",
      "         _/_               _                      .'`   `\\            | |                     /        |           | |                 ;\n",
      "     |        /           |_|                 |\n",
      "     \\  ;'---'    _    ___  _  _  ___         ;\n",
      "      '. ;       | |  /   \\| || ||  _|     _ ;\n",
      "        `-\\      | |_ | | || |/ /|  _|   .' `,\n",
      "           `\\    |___|\\___/ \\__/ |___|  |                  \\            _ _           \\     |\n",
      "         jgs  `\\         | | |         /`   _/\n",
      "    ,-\"\"-.    .'`\\       | | |       /`-,-'` .-\"\"-,\n",
      "   /      `\\.'    `\\     \\___/     /`    './`        ;  .--.   \\       '\\           /'       /   .--.  ;\n",
      "  | (    \\   |,       '\\       /'        |   /    ) |\n",
      "   \\ ;    }             ;\\   /;         `   {    ; /\n",
      "    `;\\   \\         _.-'  \\ /  `-._         /   /;`\n",
      "      \\ \\__.'   _.-'       Y       `-._    '.__//\n",
      "       '.___,.-'                       `-.,___.'\n",
      "\n",
      "\n",
      "your love score is 7\n"
     ]
    }
   ],
   "source": [
    "import random \n",
    "name1 =input(\"Enter her name  :  \")\n",
    "name2 = input(\"Enter his name :  \")\n",
    "\n",
    "lovescore = random.randint(0,100)\n",
    "print(''''\n",
    "                        __,,,__\n",
    "                ,-\"\"-,-\"       \"-,-\"\"-,\n",
    "               /,-' , .-'-.7.-'-. , '-,\\\n",
    "               \\(    /  _     _  \\    )/\n",
    "                '-,  { (0)   (0) }  ,-'\n",
    "                 /    >  .---.  <    \\\n",
    "                |/ .-'   \\___/   '-. \\|\n",
    "                {, /  ,_       _,  \\ ,}\n",
    "                \\ {,    \\     /    ,} /\n",
    "                 ',\\.    '---'    ./,'\n",
    "             _.-\"\"\"\"\"\"-._     _.-\"\"\"\"\"\"-._\n",
    "           .'            `._.`            '.\n",
    "         _/_               _                \\\n",
    "      .'`   `\\            | |                \\\n",
    "     /        |           | |                 ;\n",
    "     |        /           |_|                 |\n",
    "     \\  ;'---'    _    ___  _  _  ___         ;\n",
    "      '. ;       | |  /   \\| || ||  _|     _ ;\n",
    "        `-\\      | |_ | | || |/ /|  _|   .' `,\n",
    "           `\\    |___|\\___/ \\__/ |___|  |     \\\n",
    "             \\            _ _           \\     |\n",
    "         jgs  `\\         | | |         /`   _/\n",
    "    ,-\"\"-.    .'`\\       | | |       /`-,-'` .-\"\"-,\n",
    "   /      `\\.'    `\\     \\___/     /`    './`      \\\n",
    "  ;  .--.   \\       '\\           /'       /   .--.  ;\n",
    "  | (    \\   |,       '\\       /'        |   /    ) |\n",
    "   \\ ;    }             ;\\   /;         `   {    ; /\n",
    "    `;\\   \\         _.-'  \\ /  `-._         /   /;`\n",
    "      \\ \\__.'   _.-'       Y       `-._    '.__//\n",
    "       '.___,.-'                       `-.,___.'\n",
    "\n",
    "''')\n",
    "print(f'your love score is {lovescore}')\n",
    "    "
   ]
  },
  {
   "cell_type": "code",
   "execution_count": null,
   "metadata": {},
   "outputs": [],
   "source": []
  },
  {
   "cell_type": "code",
   "execution_count": null,
   "metadata": {},
   "outputs": [],
   "source": []
  }
 ],
 "metadata": {
  "kernelspec": {
   "display_name": "Python 3",
   "language": "python",
   "name": "python3"
  },
  "language_info": {
   "codemirror_mode": {
    "name": "ipython",
    "version": 3
   },
   "file_extension": ".py",
   "mimetype": "text/x-python",
   "name": "python",
   "nbconvert_exporter": "python",
   "pygments_lexer": "ipython3",
   "version": "3.8.3"
  }
 },
 "nbformat": 4,
 "nbformat_minor": 4
}
